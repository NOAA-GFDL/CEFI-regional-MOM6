{
 "cells": [
  {
   "cell_type": "code",
   "execution_count": 17,
   "id": "9f1ec8c5-7f6b-434b-a3a7-8a662efb2918",
   "metadata": {},
   "outputs": [],
   "source": [
    "import sys\n",
    "import os\n",
    "import numpy as np\n",
    "import netCDF4 as nc\n",
    "import xarray"
   ]
  },
  {
   "cell_type": "code",
   "execution_count": 9,
   "id": "9ac0fb0d-c64f-4a74-a46c-5145dd6dd680",
   "metadata": {},
   "outputs": [],
   "source": [
    "# 30 year climatology from 1991 to 2020\n",
    "years = np.arange(1991,2020+1)\n",
    "hill_dir = '/work/Liz.Drenkard/external_data/goa_freshwater_discharge/'\n",
    "input_files = [(hill_dir + 'goa_dischargex_0901' + str(y) + '_0831' + str(y+1) + '.nc') for y in years]\n",
    "output_dir = './'"
   ]
  },
  {
   "cell_type": "code",
   "execution_count": 24,
   "id": "6ccab5f0-0fda-43c9-b10c-660d3bb6ae9e",
   "metadata": {},
   "outputs": [
    {
     "name": "stdout",
     "output_type": "stream",
     "text": [
      "/work/Liz.Drenkard/external_data/goa_freshwater_discharge/goa_dischargex_09011991_08311992.nc\n",
      "/work/Liz.Drenkard/external_data/goa_freshwater_discharge/goa_dischargex_09011992_08311993.nc\n",
      "/work/Liz.Drenkard/external_data/goa_freshwater_discharge/goa_dischargex_09011993_08311994.nc\n",
      "/work/Liz.Drenkard/external_data/goa_freshwater_discharge/goa_dischargex_09011994_08311995.nc\n",
      "/work/Liz.Drenkard/external_data/goa_freshwater_discharge/goa_dischargex_09011995_08311996.nc\n",
      "/work/Liz.Drenkard/external_data/goa_freshwater_discharge/goa_dischargex_09011996_08311997.nc\n",
      "/work/Liz.Drenkard/external_data/goa_freshwater_discharge/goa_dischargex_09011997_08311998.nc\n",
      "/work/Liz.Drenkard/external_data/goa_freshwater_discharge/goa_dischargex_09011998_08311999.nc\n",
      "/work/Liz.Drenkard/external_data/goa_freshwater_discharge/goa_dischargex_09011999_08312000.nc\n",
      "/work/Liz.Drenkard/external_data/goa_freshwater_discharge/goa_dischargex_09012000_08312001.nc\n",
      "/work/Liz.Drenkard/external_data/goa_freshwater_discharge/goa_dischargex_09012001_08312002.nc\n",
      "/work/Liz.Drenkard/external_data/goa_freshwater_discharge/goa_dischargex_09012002_08312003.nc\n",
      "/work/Liz.Drenkard/external_data/goa_freshwater_discharge/goa_dischargex_09012003_08312004.nc\n",
      "/work/Liz.Drenkard/external_data/goa_freshwater_discharge/goa_dischargex_09012004_08312005.nc\n",
      "/work/Liz.Drenkard/external_data/goa_freshwater_discharge/goa_dischargex_09012005_08312006.nc\n",
      "/work/Liz.Drenkard/external_data/goa_freshwater_discharge/goa_dischargex_09012006_08312007.nc\n",
      "/work/Liz.Drenkard/external_data/goa_freshwater_discharge/goa_dischargex_09012007_08312008.nc\n",
      "/work/Liz.Drenkard/external_data/goa_freshwater_discharge/goa_dischargex_09012008_08312009.nc\n",
      "/work/Liz.Drenkard/external_data/goa_freshwater_discharge/goa_dischargex_09012009_08312010.nc\n",
      "/work/Liz.Drenkard/external_data/goa_freshwater_discharge/goa_dischargex_09012010_08312011.nc\n",
      "/work/Liz.Drenkard/external_data/goa_freshwater_discharge/goa_dischargex_09012011_08312012.nc\n",
      "/work/Liz.Drenkard/external_data/goa_freshwater_discharge/goa_dischargex_09012012_08312013.nc\n",
      "/work/Liz.Drenkard/external_data/goa_freshwater_discharge/goa_dischargex_09012013_08312014.nc\n",
      "/work/Liz.Drenkard/external_data/goa_freshwater_discharge/goa_dischargex_09012014_08312015.nc\n",
      "/work/Liz.Drenkard/external_data/goa_freshwater_discharge/goa_dischargex_09012015_08312016.nc\n",
      "/work/Liz.Drenkard/external_data/goa_freshwater_discharge/goa_dischargex_09012016_08312017.nc\n",
      "/work/Liz.Drenkard/external_data/goa_freshwater_discharge/goa_dischargex_09012017_08312018.nc\n",
      "/work/Liz.Drenkard/external_data/goa_freshwater_discharge/goa_dischargex_09012018_08312019.nc\n",
      "/work/Liz.Drenkard/external_data/goa_freshwater_discharge/goa_dischargex_09012019_08312020.nc\n",
      "/work/Liz.Drenkard/external_data/goa_freshwater_discharge/goa_dischargex_09012020_08312021.nc\n"
     ]
    }
   ],
   "source": [
    "first_fil = True\n",
    "hill_clim_fil = 'goa_dischargex_09011991_08312021_clim.nc'\n",
    "n = 0\n",
    "\n",
    "cp_fnc_str = 'cp ' + hill_dir + 'goa_dischargex_09011992_08311993.nc ./' + hill_clim_fil\n",
    "os.system(cp_fnc_str)\n",
    "\n",
    "for hill_fil in input_files:\n",
    "    print(hill_fil)\n",
    "    if first_fil: \n",
    "        fid = nc.Dataset(hill_clim_fil,'a')\n",
    "        q_var = fid.variables['q']\n",
    "        \n",
    "        fid_add = nc.Dataset(hill_fil)\n",
    "        q_var_stor = fid_add.variables['q'][:365,:]\n",
    "        first_fil = False\n",
    "    else:\n",
    "        fid_add = nc.Dataset(hill_fil)\n",
    "        q_var_stor += fid_add.variables['q'][:365,:]\n",
    " \n",
    "    n+=1\n",
    "    \n",
    "q_var[:] = q_var_stor/n\n",
    "fid.close()\n",
    "        "
   ]
  },
  {
   "cell_type": "code",
   "execution_count": null,
   "id": "5caccec9-9964-4f75-8959-a4962a07bd88",
   "metadata": {},
   "outputs": [],
   "source": []
  }
 ],
 "metadata": {
  "kernelspec": {
   "display_name": "Python 3 (ipykernel)",
   "language": "python",
   "name": "python3"
  },
  "language_info": {
   "codemirror_mode": {
    "name": "ipython",
    "version": 3
   },
   "file_extension": ".py",
   "mimetype": "text/x-python",
   "name": "python",
   "nbconvert_exporter": "python",
   "pygments_lexer": "ipython3",
   "version": "3.12.7"
  }
 },
 "nbformat": 4,
 "nbformat_minor": 5
}
