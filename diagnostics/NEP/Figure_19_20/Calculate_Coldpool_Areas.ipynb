{
 "cells": [
  {
   "cell_type": "code",
   "execution_count": 2,
   "id": "eb2aa6c8",
   "metadata": {},
   "outputs": [],
   "source": [
    "library(coldpool)\n",
    "library(akgfmaps)"
   ]
  },
  {
   "cell_type": "code",
   "execution_count": 3,
   "id": "256b5c8c",
   "metadata": {},
   "outputs": [],
   "source": [
    "proj_crs <- coldpool:::ebs_proj_crs\n",
    "\n",
    "ebs_nep_csv_path <- 'index_hauls_temperature_data_nep.csv'"
   ]
  },
  {
   "cell_type": "markdown",
   "id": "befed50b-7c1b-4783-8c9f-e507b4e4b859",
   "metadata": {},
   "source": [
    "### Calculate Cold Pool Area for NEP tob"
   ]
  },
  {
   "cell_type": "code",
   "execution_count": 4,
   "id": "ed5913a2-8f36-4ebf-b17a-b102f13b03e9",
   "metadata": {},
   "outputs": [
    {
     "name": "stdout",
     "output_type": "stream",
     "text": [
      "[1] \"coldpool::interpolate_variable: Removing 1 var.col NA values from data set\"\n"
     ]
    },
    {
     "name": "stderr",
     "output_type": "stream",
     "text": [
      "Warning message:\n",
      "\"attribute variables are assumed to be spatially constant throughout all geometries\"\n"
     ]
    },
    {
     "name": "stdout",
     "output_type": "stream",
     "text": [
      "[using ordinary kriging]\n"
     ]
    },
    {
     "name": "stderr",
     "output_type": "stream",
     "text": [
      "Warning message:\n",
      "\"attribute variables are assumed to be spatially constant throughout all geometries\"\n"
     ]
    },
    {
     "name": "stdout",
     "output_type": "stream",
     "text": [
      "[using ordinary kriging]\n",
      "[1] \"coldpool::interpolate_variable: Removing 2 var.col NA values from data set\"\n"
     ]
    },
    {
     "name": "stderr",
     "output_type": "stream",
     "text": [
      "Warning message:\n",
      "\"attribute variables are assumed to be spatially constant throughout all geometries\"\n"
     ]
    },
    {
     "name": "stdout",
     "output_type": "stream",
     "text": [
      "[using ordinary kriging]\n",
      "[1] \"coldpool::interpolate_variable: Removing 1 var.col NA values from data set\"\n"
     ]
    },
    {
     "name": "stderr",
     "output_type": "stream",
     "text": [
      "Warning message:\n",
      "\"attribute variables are assumed to be spatially constant throughout all geometries\"\n"
     ]
    },
    {
     "name": "stdout",
     "output_type": "stream",
     "text": [
      "[using ordinary kriging]\n",
      "[1] \"coldpool::interpolate_variable: Removing 2 var.col NA values from data set\"\n"
     ]
    },
    {
     "name": "stderr",
     "output_type": "stream",
     "text": [
      "Warning message:\n",
      "\"attribute variables are assumed to be spatially constant throughout all geometries\"\n"
     ]
    },
    {
     "name": "stdout",
     "output_type": "stream",
     "text": [
      "[using ordinary kriging]\n",
      "[1] \"coldpool::interpolate_variable: Removing 1 var.col NA values from data set\"\n"
     ]
    },
    {
     "name": "stderr",
     "output_type": "stream",
     "text": [
      "Warning message:\n",
      "\"attribute variables are assumed to be spatially constant throughout all geometries\"\n"
     ]
    },
    {
     "name": "stdout",
     "output_type": "stream",
     "text": [
      "[using ordinary kriging]\n",
      "[1] \"coldpool::interpolate_variable: Removing 2 var.col NA values from data set\"\n"
     ]
    },
    {
     "name": "stderr",
     "output_type": "stream",
     "text": [
      "Warning message:\n",
      "\"attribute variables are assumed to be spatially constant throughout all geometries\"\n"
     ]
    },
    {
     "name": "stdout",
     "output_type": "stream",
     "text": [
      "[using ordinary kriging]\n",
      "[1] \"coldpool::interpolate_variable: Removing 1 var.col NA values from data set\"\n"
     ]
    },
    {
     "name": "stderr",
     "output_type": "stream",
     "text": [
      "Warning message:\n",
      "\"attribute variables are assumed to be spatially constant throughout all geometries\"\n"
     ]
    },
    {
     "name": "stdout",
     "output_type": "stream",
     "text": [
      "[using ordinary kriging]\n",
      "[1] \"coldpool::interpolate_variable: Removing 2 var.col NA values from data set\"\n"
     ]
    },
    {
     "name": "stderr",
     "output_type": "stream",
     "text": [
      "Warning message:\n",
      "\"attribute variables are assumed to be spatially constant throughout all geometries\"\n"
     ]
    },
    {
     "name": "stdout",
     "output_type": "stream",
     "text": [
      "[using ordinary kriging]\n",
      "[1] \"coldpool::interpolate_variable: Removing 3 var.col NA values from data set\"\n"
     ]
    },
    {
     "name": "stderr",
     "output_type": "stream",
     "text": [
      "Warning message:\n",
      "\"attribute variables are assumed to be spatially constant throughout all geometries\"\n"
     ]
    },
    {
     "name": "stdout",
     "output_type": "stream",
     "text": [
      "[using ordinary kriging]\n",
      "[1] \"coldpool::interpolate_variable: Removing 1 var.col NA values from data set\"\n"
     ]
    },
    {
     "name": "stderr",
     "output_type": "stream",
     "text": [
      "Warning message:\n",
      "\"attribute variables are assumed to be spatially constant throughout all geometries\"\n"
     ]
    },
    {
     "name": "stdout",
     "output_type": "stream",
     "text": [
      "[using ordinary kriging]\n",
      "[1] \"coldpool::interpolate_variable: Removing 2 var.col NA values from data set\"\n"
     ]
    },
    {
     "name": "stderr",
     "output_type": "stream",
     "text": [
      "Warning message:\n",
      "\"attribute variables are assumed to be spatially constant throughout all geometries\"\n"
     ]
    },
    {
     "name": "stdout",
     "output_type": "stream",
     "text": [
      "[using ordinary kriging]\n",
      "[1] \"coldpool::interpolate_variable: Removing 1 var.col NA values from data set\"\n"
     ]
    },
    {
     "name": "stderr",
     "output_type": "stream",
     "text": [
      "Warning message:\n",
      "\"attribute variables are assumed to be spatially constant throughout all geometries\"\n"
     ]
    },
    {
     "name": "stdout",
     "output_type": "stream",
     "text": [
      "[using ordinary kriging]\n",
      "[1] \"coldpool::interpolate_variable: Removing 2 var.col NA values from data set\"\n"
     ]
    },
    {
     "name": "stderr",
     "output_type": "stream",
     "text": [
      "Warning message:\n",
      "\"attribute variables are assumed to be spatially constant throughout all geometries\"\n"
     ]
    },
    {
     "name": "stdout",
     "output_type": "stream",
     "text": [
      "[using ordinary kriging]\n",
      "[1] \"coldpool::interpolate_variable: Removing 2 var.col NA values from data set\"\n"
     ]
    },
    {
     "name": "stderr",
     "output_type": "stream",
     "text": [
      "Warning message:\n",
      "\"attribute variables are assumed to be spatially constant throughout all geometries\"\n"
     ]
    },
    {
     "name": "stdout",
     "output_type": "stream",
     "text": [
      "[using ordinary kriging]\n",
      "[1] \"coldpool::interpolate_variable: Removing 2 var.col NA values from data set\"\n"
     ]
    },
    {
     "name": "stderr",
     "output_type": "stream",
     "text": [
      "Warning message:\n",
      "\"attribute variables are assumed to be spatially constant throughout all geometries\"\n"
     ]
    },
    {
     "name": "stdout",
     "output_type": "stream",
     "text": [
      "[using ordinary kriging]\n",
      "[1] \"coldpool::interpolate_variable: Removing 2 var.col NA values from data set\"\n"
     ]
    },
    {
     "name": "stderr",
     "output_type": "stream",
     "text": [
      "Warning message:\n",
      "\"attribute variables are assumed to be spatially constant throughout all geometries\"\n"
     ]
    },
    {
     "name": "stdout",
     "output_type": "stream",
     "text": [
      "[using ordinary kriging]\n",
      "[1] \"coldpool::interpolate_variable: Removing 2 var.col NA values from data set\"\n"
     ]
    },
    {
     "name": "stderr",
     "output_type": "stream",
     "text": [
      "Warning message:\n",
      "\"attribute variables are assumed to be spatially constant throughout all geometries\"\n"
     ]
    },
    {
     "name": "stdout",
     "output_type": "stream",
     "text": [
      "[using ordinary kriging]\n",
      "[1] \"coldpool::interpolate_variable: Removing 2 var.col NA values from data set\"\n"
     ]
    },
    {
     "name": "stderr",
     "output_type": "stream",
     "text": [
      "Warning message:\n",
      "\"attribute variables are assumed to be spatially constant throughout all geometries\"\n"
     ]
    },
    {
     "name": "stdout",
     "output_type": "stream",
     "text": [
      "[using ordinary kriging]\n",
      "[1] \"coldpool::interpolate_variable: Removing 2 var.col NA values from data set\"\n"
     ]
    },
    {
     "name": "stderr",
     "output_type": "stream",
     "text": [
      "Warning message:\n",
      "\"attribute variables are assumed to be spatially constant throughout all geometries\"\n"
     ]
    },
    {
     "name": "stdout",
     "output_type": "stream",
     "text": [
      "[using ordinary kriging]\n",
      "[1] \"coldpool::interpolate_variable: Removing 2 var.col NA values from data set\"\n"
     ]
    },
    {
     "name": "stderr",
     "output_type": "stream",
     "text": [
      "Warning message:\n",
      "\"attribute variables are assumed to be spatially constant throughout all geometries\"\n"
     ]
    },
    {
     "name": "stdout",
     "output_type": "stream",
     "text": [
      "[using ordinary kriging]\n",
      "[1] \"coldpool::interpolate_variable: Removing 2 var.col NA values from data set\"\n"
     ]
    },
    {
     "name": "stderr",
     "output_type": "stream",
     "text": [
      "Warning message:\n",
      "\"attribute variables are assumed to be spatially constant throughout all geometries\"\n"
     ]
    },
    {
     "name": "stdout",
     "output_type": "stream",
     "text": [
      "[using ordinary kriging]\n",
      "[1] \"coldpool::interpolate_variable: Removing 2 var.col NA values from data set\"\n"
     ]
    },
    {
     "name": "stderr",
     "output_type": "stream",
     "text": [
      "Warning message:\n",
      "\"attribute variables are assumed to be spatially constant throughout all geometries\"\n"
     ]
    },
    {
     "name": "stdout",
     "output_type": "stream",
     "text": [
      "[using ordinary kriging]\n",
      "[1] \"coldpool::interpolate_variable: Removing 3 var.col NA values from data set\"\n"
     ]
    },
    {
     "name": "stderr",
     "output_type": "stream",
     "text": [
      "Warning message:\n",
      "\"attribute variables are assumed to be spatially constant throughout all geometries\"\n",
      "Warning message in gstat::fit.variogram(object = gstat::variogram(idw_vgm_fit), :\n",
      "\"No convergence after 200 iterations: try different initial values?\"\n"
     ]
    },
    {
     "name": "stdout",
     "output_type": "stream",
     "text": [
      "[using ordinary kriging]\n",
      "[1] \"coldpool::interpolate_variable: Removing 2 var.col NA values from data set\"\n"
     ]
    },
    {
     "name": "stderr",
     "output_type": "stream",
     "text": [
      "Warning message:\n",
      "\"attribute variables are assumed to be spatially constant throughout all geometries\"\n"
     ]
    },
    {
     "name": "stdout",
     "output_type": "stream",
     "text": [
      "[using ordinary kriging]\n",
      "[1] \"coldpool::interpolate_variable: Removing 2 var.col NA values from data set\"\n"
     ]
    },
    {
     "name": "stderr",
     "output_type": "stream",
     "text": [
      "Warning message:\n",
      "\"attribute variables are assumed to be spatially constant throughout all geometries\"\n"
     ]
    },
    {
     "name": "stdout",
     "output_type": "stream",
     "text": [
      "[using ordinary kriging]\n",
      "[1] \"coldpool::interpolate_variable: Removing 2 var.col NA values from data set\"\n"
     ]
    },
    {
     "name": "stderr",
     "output_type": "stream",
     "text": [
      "Warning message:\n",
      "\"attribute variables are assumed to be spatially constant throughout all geometries\"\n"
     ]
    },
    {
     "name": "stdout",
     "output_type": "stream",
     "text": [
      "[using ordinary kriging]\n",
      "[1] \"coldpool::interpolate_variable: Removing 2 var.col NA values from data set\"\n"
     ]
    },
    {
     "name": "stderr",
     "output_type": "stream",
     "text": [
      "Warning message:\n",
      "\"attribute variables are assumed to be spatially constant throughout all geometries\"\n"
     ]
    },
    {
     "name": "stdout",
     "output_type": "stream",
     "text": [
      "[using ordinary kriging]\n",
      "[1] \"coldpool::interpolate_variable: Removing 3 var.col NA values from data set\"\n"
     ]
    },
    {
     "name": "stderr",
     "output_type": "stream",
     "text": [
      "Warning message:\n",
      "\"attribute variables are assumed to be spatially constant throughout all geometries\"\n"
     ]
    },
    {
     "name": "stdout",
     "output_type": "stream",
     "text": [
      "[using ordinary kriging]\n",
      "[1] \"coldpool::interpolate_variable: Removing 2 var.col NA values from data set\"\n"
     ]
    },
    {
     "name": "stderr",
     "output_type": "stream",
     "text": [
      "Warning message:\n",
      "\"attribute variables are assumed to be spatially constant throughout all geometries\"\n"
     ]
    },
    {
     "name": "stdout",
     "output_type": "stream",
     "text": [
      "[using ordinary kriging]\n",
      "[1] \"coldpool::interpolate_variable: Removing 2 var.col NA values from data set\"\n"
     ]
    },
    {
     "name": "stderr",
     "output_type": "stream",
     "text": [
      "Warning message:\n",
      "\"attribute variables are assumed to be spatially constant throughout all geometries\"\n"
     ]
    },
    {
     "name": "stdout",
     "output_type": "stream",
     "text": [
      "[using ordinary kriging]\n",
      "[1] \"coldpool::interpolate_variable: Removing 1 var.col NA values from data set\"\n"
     ]
    },
    {
     "name": "stderr",
     "output_type": "stream",
     "text": [
      "Warning message:\n",
      "\"attribute variables are assumed to be spatially constant throughout all geometries\"\n"
     ]
    },
    {
     "name": "stdout",
     "output_type": "stream",
     "text": [
      "[using ordinary kriging]\n"
     ]
    }
   ],
   "source": [
    "# Interpolate gear temperature and write rasters for SEBS - nep bottom temp values\n",
    "interpolation_wrapper(temp_data_path = ebs_nep_csv_path,\n",
    "                      proj_crs = proj_crs,\n",
    "                      cell_resolution = 5000, # 5x5 km grid resolution\n",
    "                      select_years = 1993:2024,\n",
    "                      interp_variable = \"nep_tob\",\n",
    "                      select_region = \"sebs\",\n",
    "                      methods = \"Ste\") "
   ]
  },
  {
   "cell_type": "code",
   "execution_count": 5,
   "id": "bc9d38d9-a671-44bc-bc51-3ef0c53a01c6",
   "metadata": {},
   "outputs": [
    {
     "name": "stderr",
     "output_type": "stream",
     "text": [
      "Warning message:\n",
      "\"attribute variables are assumed to be spatially constant throughout all geometries\"\n"
     ]
    }
   ],
   "source": [
    "# Calculate cold pool area for NEP\n",
    "bottom_temp_files <- list.files(here::here(\"output\", \"raster\", \"sebs\", \"nep_tob\"), \n",
    "                                full.names = TRUE,\n",
    "                                pattern = \"ste_\")\n",
    "\n",
    "bt_df <- data.frame(YEAR = numeric(length = length(bottom_temp_files)),\n",
    "                    AREA_LTE2_KM2 = numeric(length = length(bottom_temp_files)),\n",
    "                    AREA_LTE1_KM2 = numeric(length = length(bottom_temp_files)),\n",
    "                    AREA_LTE0_KM2 = numeric(length = length(bottom_temp_files)),\n",
    "                    AREA_LTEMINUS1_KM2 = numeric(length = length(bottom_temp_files)),\n",
    "                    MEAN_GEAR_TEMPERATURE = numeric(length = length(bottom_temp_files)),\n",
    "                    MEAN_BT_LT100M = numeric(length = length(bottom_temp_files)))\n",
    "\n",
    "# Setup mask to calculate mean bottom temperature from <100 m strata\n",
    "ebs_layers <- akgfmaps::get_base_layers(select.region = \"sebs\", set.crs = proj_crs)\n",
    "\n",
    "lt100_strata <- ebs_layers$survey.strata |>\n",
    "  dplyr::filter(Stratum %in% c(10, 20, 31, 32, 41, 42, 43)) |>\n",
    "  dplyr::group_by(SURVEY) |>\n",
    "  dplyr::summarise()\n",
    "\n",
    "for(i in 1:length(bottom_temp_files)) {\n",
    "  bt_raster <- terra::rast(bottom_temp_files[i])\n",
    "  bt_df$YEAR[i] <- as.numeric(gsub(\"[^0-9.-]\", \"\", names(bt_raster))) # Extract year\n",
    "  bt_df$AREA_LTE2_KM2[i] <- bt_raster |> \n",
    "    cpa_from_raster(raster_units = \"m\", temperature_threshold = 2)\n",
    "  bt_df$AREA_LTE1_KM2[i] <- bt_raster |> \n",
    "    cpa_from_raster(raster_units = \"m\", temperature_threshold = 1)\n",
    "  bt_df$AREA_LTE0_KM2[i] <- bt_raster |> \n",
    "    cpa_from_raster(raster_units = \"m\", temperature_threshold = 0)\n",
    "  bt_df$AREA_LTEMINUS1_KM2[i] <- bt_raster |> \n",
    "    cpa_from_raster(raster_units = \"m\", temperature_threshold = -1)\n",
    "  bt_df$MEAN_GEAR_TEMPERATURE[i] <- mean(terra::values(bt_raster), na.rm = TRUE)\n",
    "  lt100_temp <- terra::mask(bt_raster, \n",
    "                            lt100_strata,\n",
    "                            touches = FALSE)\n",
    "  bt_df$MEAN_BT_LT100M[i] <- mean(terra::values(lt100_temp), na.rm = TRUE) \n",
    "  \n",
    "}\n",
    "\n",
    "write.csv(bt_df, \"nep_cpa.csv\", row.names=FALSE)"
   ]
  },
  {
   "cell_type": "markdown",
   "id": "31b444d9-d8f8-47a0-a327-2f62720d4dc6",
   "metadata": {},
   "source": [
    "### Calculate Cold Pool Area for AFSC Trawl Gear Temperature"
   ]
  },
  {
   "cell_type": "code",
   "execution_count": 6,
   "id": "df1db18a-da6d-4552-9412-c4b0fb149bfd",
   "metadata": {},
   "outputs": [
    {
     "name": "stderr",
     "output_type": "stream",
     "text": [
      "Warning message:\n",
      "\"attribute variables are assumed to be spatially constant throughout all geometries\"\n"
     ]
    },
    {
     "name": "stdout",
     "output_type": "stream",
     "text": [
      "[using ordinary kriging]\n"
     ]
    },
    {
     "name": "stderr",
     "output_type": "stream",
     "text": [
      "Warning message:\n",
      "\"attribute variables are assumed to be spatially constant throughout all geometries\"\n"
     ]
    },
    {
     "name": "stdout",
     "output_type": "stream",
     "text": [
      "[using ordinary kriging]\n"
     ]
    },
    {
     "name": "stderr",
     "output_type": "stream",
     "text": [
      "Warning message:\n",
      "\"attribute variables are assumed to be spatially constant throughout all geometries\"\n"
     ]
    },
    {
     "name": "stdout",
     "output_type": "stream",
     "text": [
      "[using ordinary kriging]\n"
     ]
    },
    {
     "name": "stderr",
     "output_type": "stream",
     "text": [
      "Warning message:\n",
      "\"attribute variables are assumed to be spatially constant throughout all geometries\"\n"
     ]
    },
    {
     "name": "stdout",
     "output_type": "stream",
     "text": [
      "[using ordinary kriging]\n"
     ]
    },
    {
     "name": "stderr",
     "output_type": "stream",
     "text": [
      "Warning message:\n",
      "\"attribute variables are assumed to be spatially constant throughout all geometries\"\n"
     ]
    },
    {
     "name": "stdout",
     "output_type": "stream",
     "text": [
      "[using ordinary kriging]\n"
     ]
    },
    {
     "name": "stderr",
     "output_type": "stream",
     "text": [
      "Warning message:\n",
      "\"attribute variables are assumed to be spatially constant throughout all geometries\"\n"
     ]
    },
    {
     "name": "stdout",
     "output_type": "stream",
     "text": [
      "[using ordinary kriging]\n"
     ]
    },
    {
     "name": "stderr",
     "output_type": "stream",
     "text": [
      "Warning message:\n",
      "\"attribute variables are assumed to be spatially constant throughout all geometries\"\n"
     ]
    },
    {
     "name": "stdout",
     "output_type": "stream",
     "text": [
      "[using ordinary kriging]\n"
     ]
    },
    {
     "name": "stderr",
     "output_type": "stream",
     "text": [
      "Warning message:\n",
      "\"attribute variables are assumed to be spatially constant throughout all geometries\"\n"
     ]
    },
    {
     "name": "stdout",
     "output_type": "stream",
     "text": [
      "[using ordinary kriging]\n"
     ]
    },
    {
     "name": "stderr",
     "output_type": "stream",
     "text": [
      "Warning message:\n",
      "\"attribute variables are assumed to be spatially constant throughout all geometries\"\n"
     ]
    },
    {
     "name": "stdout",
     "output_type": "stream",
     "text": [
      "[using ordinary kriging]\n"
     ]
    },
    {
     "name": "stderr",
     "output_type": "stream",
     "text": [
      "Warning message:\n",
      "\"attribute variables are assumed to be spatially constant throughout all geometries\"\n"
     ]
    },
    {
     "name": "stdout",
     "output_type": "stream",
     "text": [
      "[using ordinary kriging]\n"
     ]
    },
    {
     "name": "stderr",
     "output_type": "stream",
     "text": [
      "Warning message:\n",
      "\"attribute variables are assumed to be spatially constant throughout all geometries\"\n"
     ]
    },
    {
     "name": "stdout",
     "output_type": "stream",
     "text": [
      "[using ordinary kriging]\n"
     ]
    },
    {
     "name": "stderr",
     "output_type": "stream",
     "text": [
      "Warning message:\n",
      "\"attribute variables are assumed to be spatially constant throughout all geometries\"\n"
     ]
    },
    {
     "name": "stdout",
     "output_type": "stream",
     "text": [
      "[using ordinary kriging]\n"
     ]
    },
    {
     "name": "stderr",
     "output_type": "stream",
     "text": [
      "Warning message:\n",
      "\"attribute variables are assumed to be spatially constant throughout all geometries\"\n"
     ]
    },
    {
     "name": "stdout",
     "output_type": "stream",
     "text": [
      "[using ordinary kriging]\n"
     ]
    },
    {
     "name": "stderr",
     "output_type": "stream",
     "text": [
      "Warning message:\n",
      "\"attribute variables are assumed to be spatially constant throughout all geometries\"\n"
     ]
    },
    {
     "name": "stdout",
     "output_type": "stream",
     "text": [
      "[using ordinary kriging]\n"
     ]
    },
    {
     "name": "stderr",
     "output_type": "stream",
     "text": [
      "Warning message:\n",
      "\"attribute variables are assumed to be spatially constant throughout all geometries\"\n"
     ]
    },
    {
     "name": "stdout",
     "output_type": "stream",
     "text": [
      "[using ordinary kriging]\n"
     ]
    },
    {
     "name": "stderr",
     "output_type": "stream",
     "text": [
      "Warning message:\n",
      "\"attribute variables are assumed to be spatially constant throughout all geometries\"\n"
     ]
    },
    {
     "name": "stdout",
     "output_type": "stream",
     "text": [
      "[using ordinary kriging]\n"
     ]
    },
    {
     "name": "stderr",
     "output_type": "stream",
     "text": [
      "Warning message:\n",
      "\"attribute variables are assumed to be spatially constant throughout all geometries\"\n"
     ]
    },
    {
     "name": "stdout",
     "output_type": "stream",
     "text": [
      "[using ordinary kriging]\n"
     ]
    },
    {
     "name": "stderr",
     "output_type": "stream",
     "text": [
      "Warning message:\n",
      "\"attribute variables are assumed to be spatially constant throughout all geometries\"\n"
     ]
    },
    {
     "name": "stdout",
     "output_type": "stream",
     "text": [
      "[using ordinary kriging]\n"
     ]
    },
    {
     "name": "stderr",
     "output_type": "stream",
     "text": [
      "Warning message:\n",
      "\"attribute variables are assumed to be spatially constant throughout all geometries\"\n"
     ]
    },
    {
     "name": "stdout",
     "output_type": "stream",
     "text": [
      "[using ordinary kriging]\n"
     ]
    },
    {
     "name": "stderr",
     "output_type": "stream",
     "text": [
      "Warning message:\n",
      "\"attribute variables are assumed to be spatially constant throughout all geometries\"\n"
     ]
    },
    {
     "name": "stdout",
     "output_type": "stream",
     "text": [
      "[using ordinary kriging]\n"
     ]
    },
    {
     "name": "stderr",
     "output_type": "stream",
     "text": [
      "Warning message:\n",
      "\"attribute variables are assumed to be spatially constant throughout all geometries\"\n"
     ]
    },
    {
     "name": "stdout",
     "output_type": "stream",
     "text": [
      "[using ordinary kriging]\n"
     ]
    },
    {
     "name": "stderr",
     "output_type": "stream",
     "text": [
      "Warning message:\n",
      "\"attribute variables are assumed to be spatially constant throughout all geometries\"\n"
     ]
    },
    {
     "name": "stdout",
     "output_type": "stream",
     "text": [
      "[using ordinary kriging]\n"
     ]
    },
    {
     "name": "stderr",
     "output_type": "stream",
     "text": [
      "Warning message:\n",
      "\"attribute variables are assumed to be spatially constant throughout all geometries\"\n"
     ]
    },
    {
     "name": "stdout",
     "output_type": "stream",
     "text": [
      "[using ordinary kriging]\n"
     ]
    },
    {
     "name": "stderr",
     "output_type": "stream",
     "text": [
      "Warning message:\n",
      "\"attribute variables are assumed to be spatially constant throughout all geometries\"\n",
      "Warning message in gstat::fit.variogram(object = gstat::variogram(idw_vgm_fit), :\n",
      "\"No convergence after 200 iterations: try different initial values?\"\n"
     ]
    },
    {
     "name": "stdout",
     "output_type": "stream",
     "text": [
      "[using ordinary kriging]\n"
     ]
    },
    {
     "name": "stderr",
     "output_type": "stream",
     "text": [
      "Warning message:\n",
      "\"attribute variables are assumed to be spatially constant throughout all geometries\"\n"
     ]
    },
    {
     "name": "stdout",
     "output_type": "stream",
     "text": [
      "[using ordinary kriging]\n"
     ]
    },
    {
     "name": "stderr",
     "output_type": "stream",
     "text": [
      "Warning message:\n",
      "\"attribute variables are assumed to be spatially constant throughout all geometries\"\n"
     ]
    },
    {
     "name": "stdout",
     "output_type": "stream",
     "text": [
      "[using ordinary kriging]\n"
     ]
    },
    {
     "name": "stderr",
     "output_type": "stream",
     "text": [
      "Warning message:\n",
      "\"attribute variables are assumed to be spatially constant throughout all geometries\"\n",
      "Warning message in gstat::fit.variogram(object = gstat::variogram(idw_vgm_fit), :\n",
      "\"No convergence after 200 iterations: try different initial values?\"\n",
      "Warning message in fit.variogram(object, model, fit.sills = fit.sills, fit.ranges = fit.ranges, :\n",
      "\"No convergence after 200 iterations: try different initial values?\"\n"
     ]
    },
    {
     "name": "stdout",
     "output_type": "stream",
     "text": [
      "[using ordinary kriging]\n",
      "[1] \"coldpool::interpolate_variable: Removing 376 var.col NA values from data set\"\n"
     ]
    },
    {
     "name": "stderr",
     "output_type": "stream",
     "text": [
      "Warning message:\n",
      "\"attribute variables are assumed to be spatially constant throughout all geometries\"\n",
      "Warning message in min(cc[[1]], na.rm = TRUE):\n",
      "\"no non-missing arguments to min; returning Inf\"\n",
      "Warning message in min(cc[[2]], na.rm = TRUE):\n",
      "\"no non-missing arguments to min; returning Inf\"\n",
      "Warning message in max(cc[[1]], na.rm = TRUE):\n",
      "\"no non-missing arguments to max; returning -Inf\"\n",
      "Warning message in max(cc[[2]], na.rm = TRUE):\n",
      "\"no non-missing arguments to max; returning -Inf\"\n"
     ]
    },
    {
     "ename": "ERROR",
     "evalue": "Error in (function (cond) : error in evaluating the argument 'x' in selecting a method for function 'addAttrToGeom': subscript out of bounds\n",
     "output_type": "error",
     "traceback": [
      "Error in (function (cond) : error in evaluating the argument 'x' in selecting a method for function 'addAttrToGeom': subscript out of bounds\nTraceback:\n",
      "1. interpolation_wrapper(temp_data_path = ebs_nep_csv_path, proj_crs = proj_crs, \n .     cell_resolution = 5000, select_years = 1993:2024, interp_variable = \"gear_temperature\", \n .     select_region = \"sebs\", methods = \"Ste\")",
      "2. interpolate_variable(dat = dplyr::filter(temperature_df, year == \n .     year_vec[ii]), dat.year = year_vec[ii], in.crs = \"EPSG:4326\", \n .     interpolation.crs = proj_crs, cell.resolution = cell_resolution, \n .     lon.col = \"longitude\", lat.col = \"latitude\", var.col = interp_variable, \n .     nm = Inf, pre = paste0(\"_\", toupper(interp_variable), \"_\", \n .         year_vec[ii]), select.region = select_region, methods = methods)",
      "3. gstat::gstat(formula = var.col ~ 1, locations = interp_df, nmax = Inf)",
      "4. as(data, \"Spatial\")",
      "5. asMethod(object)",
      "6. sp::addAttrToGeom(as_Spatial(geom, IDs = row.names(from)), data.frame(from), \n .     match.ID = FALSE)",
      "7. as_Spatial(geom, IDs = row.names(from))",
      "8. .as_Spatial(from, cast, IDs)",
      "9. (function (cond) \n . .Internal(C_tryCatchHelper(addr, 1L, cond)))(structure(list(message = \"subscript out of bounds\", \n .     call = from[[1]], object = structure(list(), n_empty = 0L, crs = structure(list(\n .         input = \"EPSG:3338\", wkt = \"PROJCRS[\\\"NAD83 / Alaska Albers\\\",\\n    BASEGEOGCRS[\\\"NAD83\\\",\\n        DATUM[\\\"North American Datum 1983\\\",\\n            ELLIPSOID[\\\"GRS 1980\\\",6378137,298.257222101,\\n                LENGTHUNIT[\\\"metre\\\",1]]],\\n        PRIMEM[\\\"Greenwich\\\",0,\\n            ANGLEUNIT[\\\"degree\\\",0.0174532925199433]],\\n        ID[\\\"EPSG\\\",4269]],\\n    CONVERSION[\\\"Alaska Albers (meters)\\\",\\n        METHOD[\\\"Albers Equal Area\\\",\\n            ID[\\\"EPSG\\\",9822]],\\n        PARAMETER[\\\"Latitude of false origin\\\",50,\\n            ANGLEUNIT[\\\"degree\\\",0.0174532925199433],\\n            ID[\\\"EPSG\\\",8821]],\\n        PARAMETER[\\\"Longitude of false origin\\\",-154,\\n            ANGLEUNIT[\\\"degree\\\",0.0174532925199433],\\n            ID[\\\"EPSG\\\",8822]],\\n        PARAMETER[\\\"Latitude of 1st standard parallel\\\",55,\\n            ANGLEUNIT[\\\"degree\\\",0.0174532925199433],\\n            ID[\\\"EPSG\\\",8823]],\\n        PARAMETER[\\\"Latitude of 2nd standard parallel\\\",65,\\n            ANGLEUNIT[\\\"degree\\\",0.0174532925199433],\\n            ID[\\\"EPSG\\\",8824]],\\n        PARAMETER[\\\"Easting at false origin\\\",0,\\n            LENGTHUNIT[\\\"metre\\\",1],\\n            ID[\\\"EPSG\\\",8826]],\\n        PARAMETER[\\\"Northing at false origin\\\",0,\\n            LENGTHUNIT[\\\"metre\\\",1],\\n            ID[\\\"EPSG\\\",8827]]],\\n    CS[Cartesian,2],\\n        AXIS[\\\"easting (X)\\\",east,\\n            ORDER[1],\\n            LENGTHUNIT[\\\"metre\\\",1]],\\n        AXIS[\\\"northing (Y)\\\",north,\\n            ORDER[2],\\n            LENGTHUNIT[\\\"metre\\\",1]],\\n    USAGE[\\n        SCOPE[\\\"Topographic mapping (small scale).\\\"],\\n        AREA[\\\"United States (USA) - Alaska.\\\"],\\n        BBOX[51.3,172.42,71.4,-129.99]],\\n    ID[\\\"EPSG\\\",3338]]\"), class = \"crs\"), class = c(\"sfc_GEOMETRY\", \n .     \"sfc\"), precision = 0, bbox = structure(c(xmin = NA_real_, \n .     ymin = NA_real_, xmax = NA_real_, ymax = NA_real_), crs = structure(list(\n .         input = NA_character_, wkt = NA_character_), class = \"crs\"), class = \"bbox\"), classes = character(0)), \n .     subscript = NA_integer_, index = 1), class = c(\"subscriptOutOfBoundsError\", \n . \"error\", \"condition\")))"
     ]
    }
   ],
   "source": [
    "# Interpolate gear temperature and write rasters for SEBS\n",
    "interpolation_wrapper(temp_data_path = ebs_nep_csv_path,\n",
    "                      proj_crs = proj_crs,\n",
    "                      cell_resolution = 5000, # 5x5 km grid resolution\n",
    "                      select_years = 1993:2024,\n",
    "                      interp_variable = \"gear_temperature\",\n",
    "                      select_region = \"sebs\",\n",
    "                      methods = \"Ste\") "
   ]
  },
  {
   "cell_type": "code",
   "execution_count": null,
   "id": "56719fc4-b10c-40d1-b586-205a3c35986b",
   "metadata": {},
   "outputs": [],
   "source": [
    "# Calculate cold pool area\n",
    "bottom_temp_files <- list.files(here::here(\"output\", \"raster\", \"sebs\", \"gear_temperature\"), \n",
    "                                full.names = TRUE,\n",
    "                                pattern = \"ste_\")\n",
    "\n",
    "bt_df <- data.frame(YEAR = numeric(length = length(bottom_temp_files)),\n",
    "                    AREA_LTE2_KM2 = numeric(length = length(bottom_temp_files)),\n",
    "                    AREA_LTE1_KM2 = numeric(length = length(bottom_temp_files)),\n",
    "                    AREA_LTE0_KM2 = numeric(length = length(bottom_temp_files)),\n",
    "                    AREA_LTEMINUS1_KM2 = numeric(length = length(bottom_temp_files)),\n",
    "                    MEAN_GEAR_TEMPERATURE = numeric(length = length(bottom_temp_files)),\n",
    "                    MEAN_BT_LT100M = numeric(length = length(bottom_temp_files)))\n",
    "\n",
    "# Setup mask to calculate mean bottom temperature from <100 m strata\n",
    "ebs_layers <- akgfmaps::get_base_layers(select.region = \"sebs\", set.crs = proj_crs)\n",
    "\n",
    "lt100_strata <- ebs_layers$survey.strata |>\n",
    "  dplyr::filter(Stratum %in% c(10, 20, 31, 32, 41, 42, 43)) |>\n",
    "  dplyr::group_by(SURVEY) |>\n",
    "  dplyr::summarise()\n",
    "\n",
    "for(i in 1:length(bottom_temp_files)) {\n",
    "  bt_raster <- terra::rast(bottom_temp_files[i])\n",
    "  bt_df$YEAR[i] <- as.numeric(gsub(\"[^0-9.-]\", \"\", names(bt_raster))) # Extract year\n",
    "  bt_df$AREA_LTE2_KM2[i] <- bt_raster |> \n",
    "    cpa_from_raster(raster_units = \"m\", temperature_threshold = 2)\n",
    "  bt_df$AREA_LTE1_KM2[i] <- bt_raster |> \n",
    "    cpa_from_raster(raster_units = \"m\", temperature_threshold = 1)\n",
    "  bt_df$AREA_LTE0_KM2[i] <- bt_raster |> \n",
    "    cpa_from_raster(raster_units = \"m\", temperature_threshold = 0)\n",
    "  bt_df$AREA_LTEMINUS1_KM2[i] <- bt_raster |> \n",
    "    cpa_from_raster(raster_units = \"m\", temperature_threshold = -1)\n",
    "  bt_df$MEAN_GEAR_TEMPERATURE[i] <- mean(terra::values(bt_raster), na.rm = TRUE)\n",
    "  lt100_temp <- terra::mask(bt_raster, \n",
    "                            lt100_strata,\n",
    "                            touches = FALSE)\n",
    "  bt_df$MEAN_BT_LT100M[i] <- mean(terra::values(lt100_temp), na.rm = TRUE) \n",
    "  \n",
    "}\n",
    "\n",
    "write.csv(bt_df, \"trawl_cpa.csv\", row.names=FALSE)"
   ]
  },
  {
   "cell_type": "code",
   "execution_count": null,
   "id": "f1fd1289-21b0-4c55-abf8-5caf0a79bbeb",
   "metadata": {},
   "outputs": [],
   "source": []
  }
 ],
 "metadata": {
  "kernelspec": {
   "display_name": "R",
   "language": "R",
   "name": "ir"
  },
  "language_info": {
   "codemirror_mode": "r",
   "file_extension": ".r",
   "mimetype": "text/x-r-source",
   "name": "R",
   "pygments_lexer": "r",
   "version": "4.2.3"
  }
 },
 "nbformat": 4,
 "nbformat_minor": 5
}
